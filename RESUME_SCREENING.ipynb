{
 "metadata": {
  "kernelspec": {
   "display_name": "Streamlit Notebook",
   "name": "streamlit"
  },
  "lastEditStatus": {
   "notebookId": "ih4sb6gh4xokwbdcljks",
   "authorId": "5351699852242",
   "authorName": "MENGTHONG01",
   "authorEmail": "longmengthong@gmail.com",
   "sessionId": "cd168327-7760-48c5-a8f5-680246544e45",
   "lastEditTime": 1744182947559
  }
 },
 "nbformat_minor": 5,
 "nbformat": 4,
 "cells": [
  {
   "cell_type": "code",
   "id": "3775908f-ca36-4846-8f38-5adca39217f2",
   "metadata": {
    "language": "python",
    "name": "cell1",
    "collapsed": true,
    "codeCollapsed": true
   },
   "source": "# Import python packages\nimport streamlit as st\nimport pandas as pd\n\n# We can also use Snowpark for our analyses!\nfrom snowflake.snowpark.context import get_active_session\nsession = get_active_session()\n",
   "execution_count": null,
   "outputs": []
  },
  {
   "cell_type": "code",
   "id": "8d50cbf4-0c8d-4950-86cb-114990437ac9",
   "metadata": {
    "language": "sql",
    "name": "cell2",
    "collapsed": true,
    "codeCollapsed": true
   },
   "source": "-- Welcome to Snowflake Notebooks!\n-- Try out a SQL cell to generate some data.\nSELECT 'FRIDAY' as SNOWDAY, 0.2 as CHANCE_OF_SNOW\nUNION ALL\nSELECT 'SATURDAY',0.5\nUNION ALL \nSELECT 'SUNDAY', 0.9;",
   "execution_count": null,
   "outputs": []
  },
  {
   "cell_type": "code",
   "id": "c695373e-ac74-4b62-a1f1-08206cbd5c81",
   "metadata": {
    "language": "python",
    "name": "cell3",
    "collapsed": true,
    "codeCollapsed": true
   },
   "source": "# Then, we can use the python name to turn cell2 into a Pandas dataframe\nmy_df = cell2.to_pandas()\n\n# Chart the data\nst.subheader(\"Chance of SNOW ❄️\")\nst.line_chart(my_df, x='SNOWDAY', y='CHANCE_OF_SNOW')\n\n# Give it a go!\nst.subheader(\"Try it out yourself and show off your skills 🥇\")",
   "execution_count": null,
   "outputs": []
  },
  {
   "cell_type": "markdown",
   "id": "c36b619f-9d35-4acc-ad96-b98eb76536ae",
   "metadata": {
    "name": "cell4",
    "collapsed": false
   },
   "source": "# Resume Screening"
  },
  {
   "cell_type": "markdown",
   "id": "0c159dc0-e6a9-4d2d-b133-61da49b85b94",
   "metadata": {
    "name": "cell5",
    "collapsed": false
   },
   "source": "## Create database, schema, stage and warehouses for the project"
  },
  {
   "cell_type": "code",
   "id": "df22daa7-dcea-4e2c-8680-a7910d0ec2e3",
   "metadata": {
    "language": "sql",
    "name": "cell6"
   },
   "outputs": [],
   "source": "\nUSE ROLE accountadmin;\n\nCREATE OR REPLACE DATABASE RESUME_SCREENING_DB;\n\nCREATE OR REPLACE SCHEMA RESUME_AI_SCHEMA;\n\nCREATE OR REPLACE WAREHOUSE RESUME_AI_WH;\n\nCREATE OR REPLACE WAREHOUSE RESUME_AI_MEDIUM \nWAREHOUSE_SIZE = 'MEDIUM'  \nAUTO_SUSPEND = 60;\n\nCREATE OR REPLACE WAREHOUSE RESUME_AI_LARGE\nWAREHOUSE_SIZE = 'LARGE'  \nAUTO_SUSPEND = 60;\n\nUSE DATABASE resume_screening_db;\n\nUSE SCHEMA resume_ai_schema;\n\nCREATE STAGE RESUME_DOCS\n    DIRECTORY = ( ENABLE = TRUE ) \n    ENCRYPTION = ( TYPE = 'SNOWFLAKE_SSE' );\n\nCREATE ROLE doc_ai_role;\n\n-- Step 2: Grant required privileges\nGRANT USAGE ON WAREHOUSE resume_ai_wh TO ROLE doc_ai_role;\nGRANT USAGE ON WAREHOUSE resume_ai_medium TO ROLE doc_ai_role;\nGRANT USAGE ON WAREHOUSE resume_ai_large TO ROLE doc_ai_role;\n\nGRANT USAGE ON DATABASE resume_screening_db TO ROLE doc_ai_role;\nGRANT USAGE ON SCHEMA resume_ai_schema TO ROLE doc_ai_role;\n-- GRANT CREATE SNOWFLAKE.ML.DOCUMENT_INTELLIGENCE ON SCHEMA doc_ai_db.doc_ai_schema TO ROLE doc_ai_role;\n-- GRANT CREATE MODEL ON SCHEMA doc_ai_db.doc_ai_schema TO ROLE doc_ai_role;\n\n-- Step 3: Grant the role to a specific user\nGRANT ROLE doc_ai_role TO USER MENGTHONG01;\n\nSELECT CURRENT_ROLE();\n",
   "execution_count": null
  },
  {
   "cell_type": "markdown",
   "id": "6972fa05-a070-46e5-9005-456d5f1722b1",
   "metadata": {
    "name": "cell7",
    "collapsed": false
   },
   "source": "## Resume Prediciton    "
  },
  {
   "cell_type": "markdown",
   "id": "2b69cf90-c3db-4d10-a35b-b932ebf4a0ab",
   "metadata": {
    "name": "cell10",
    "collapsed": false
   },
   "source": "### Create a table to store the json file from the prediction"
  },
  {
   "cell_type": "code",
   "id": "d8a107b5-71c1-417b-accc-ad7cfb2e4a4c",
   "metadata": {
    "language": "sql",
    "name": "cell9"
   },
   "outputs": [],
   "source": "\nCREATE OR REPLACE TABLE resume_prediction_json AS \nSELECT RESUME_SCREENING_DB.RESUME_AI_SCHEMA.RESUME_SCREENING!PREDICT(\n  GET_PRESIGNED_URL(@RESUME_SCREENING_DB.RESUME_AI_SCHEMA.RESUME_DOCS, RELATIVE_PATH), 2) AS resume_prediction \nFROM DIRECTORY(@RESUME_SCREENING_DB.RESUME_AI_SCHEMA.RESUME_DOCS);",
   "execution_count": null
  },
  {
   "cell_type": "code",
   "id": "91ad21e0-68b5-4d39-8274-9a21bacda822",
   "metadata": {
    "language": "sql",
    "name": "cell8"
   },
   "outputs": [],
   "source": "Select *\nFrom RESUME_PREDICTION_json; \n",
   "execution_count": null
  },
  {
   "cell_type": "markdown",
   "id": "555d3aa4-c13e-4a86-8c32-9f47b604739a",
   "metadata": {
    "name": "cell12",
    "collapsed": false
   },
   "source": "### Create a semi-structured table of the prediction result "
  },
  {
   "cell_type": "code",
   "id": "5be4fb2b-c87a-40a9-a18a-5b3a561350b9",
   "metadata": {
    "language": "sql",
    "name": "cell11"
   },
   "outputs": [],
   "source": "-- Create a table with all values and scores\nCREATE OR REPLACE TABLE resume_prediction AS\nWITH temp AS(\n-- First part gets the result from applying the model on the pdf documents as a JSON with additional metadata\n    SELECT \n        Relative_path as file_name, \n        size as file_size, \n        last_modified, \n        file_url as snowflake_file_url,\n        --VERIFY THAT BELOW IS USING THE SAME NAME AND NUMER AS THE MODEL INSTRUCTIONS YOU COPIED IN THE PREVIOUS STEP! \n        RESUME_SCREENING_DB.RESUME_AI_SCHEMA.RESUME_SCREENING!PREDICT(GET_PRESIGNED_URL(@RESUME_SCREENING_DB.RESUME_AI_SCHEMA.RESUME_DOCS, RELATIVE_PATH), 2) AS        \n        resume_prediction\n    from directory(@RESUME_DOCS)\n)\n\nSELECT \n    file_name, \n    file_size, \n    last_modified, \n    snowflake_file_url, \n    RESUME_PREDICTION:__documentMetadata.ocrScore::FLOAT AS ocrScore,\n    RESUME_PREDICTION:\"full_name\"[0]:value::STRING AS full_name,\n    RESUME_PREDICTION:\"phone_number\"[0]:value::STRING AS phone_number,\n    RESUME_PREDICTION:\"email\"[0]:value::STRING AS email,\n    RESUME_PREDICTION:\"location\"[0]:value::STRING AS location,\n    RESUME_PREDICTION:\"job_title\"[0]:value::STRING AS job_title,\n    RESUME_PREDICTION:\"work_experience_roles\" AS work_experience_roles,\n    RESUME_PREDICTION:\"recent_work_experience\" AS recent_work_experience,\n    RESUME_PREDICTION:\"technical_skills\" AS technical_skills,\n    RESUME_PREDICTION:\"year_of_experience\"[0]:value::STRING AS year_of_experiences,\n    RESUME_PREDICTION:\"field_of_study\"[0]:value::STRING AS field_of_study,\n    RESUME_PREDICTION:\"univeristy_name\"[0]:value::STRING AS univeristy_name,\n    RESUME_PREDICTION:\"certification\" AS certifications,\n    RESUME_PREDICTION:\"languages_spoken\" AS languages_spoken,\nFROM temp;",
   "execution_count": null
  },
  {
   "cell_type": "code",
   "id": "296bf8e8-a2c2-4065-9e00-c18c08a2af49",
   "metadata": {
    "language": "sql",
    "name": "cell13"
   },
   "outputs": [],
   "source": "//view semi-structured resume prediction table\nSELECT *\nFROM resume_prediction;",
   "execution_count": null
  },
  {
   "cell_type": "markdown",
   "id": "30e4c7bb-7e33-4601-9765-a0e196e2892d",
   "metadata": {
    "name": "cell14",
    "collapsed": false
   },
   "source": "### Transform the variant json format into structure format"
  },
  {
   "cell_type": "code",
   "id": "05262129-5836-4101-8262-29044f3f4dba",
   "metadata": {
    "language": "sql",
    "name": "cell15"
   },
   "outputs": [],
   "source": "CREATE OR REPLACE TABLE resume_prediction_clean AS\nWITH role_flattened AS (\n  SELECT \n    full_name,\n    file_name,\n    file_size,\n    last_modified,\n    snowflake_file_url,\n    ocrScore,\n    phone_number,\n    email,\n    location,\n    job_title,\n    year_of_experiences,  -- Added here\n    field_of_study,       -- Added here\n    univeristy_name,      -- Added here\n    ARRAY_AGG(role.value:value::STRING) AS work_experience_roles\n  FROM resume_prediction,\n    LATERAL FLATTEN(input => work_experience_roles) role\n  GROUP BY full_name, file_name, file_size, last_modified, snowflake_file_url, ocrScore, phone_number, email, location, job_title, year_of_experiences, field_of_study, univeristy_name\n),\nexperience_flattened AS (\n  SELECT \n    full_name,\n    ARRAY_AGG(experiences.value:value::STRING) AS recent_work_experience\n  FROM resume_prediction,\n    LATERAL FLATTEN(input => recent_work_experience) experiences\n  GROUP BY full_name\n),\ntechnical_skills_flattened AS (\n  SELECT \n    full_name,\n    ARRAY_AGG(technical_skills.value:value::STRING) AS technical_skills\n  FROM resume_prediction,\n    LATERAL FLATTEN(input => technical_skills) technical_skills\n  GROUP BY full_name\n),\ncertifications_flattened AS (\n  SELECT \n    full_name,\n    ARRAY_AGG(certifications.value:value::STRING) AS certifications\n  FROM resume_prediction,\n    LATERAL FLATTEN(input => certifications) certifications\n  GROUP BY full_name\n),\nlanguages_spoken_flattened AS (\n  SELECT \n    full_name,\n    ARRAY_AGG(languages_spoken.value:value::STRING) AS languages_spoken\n  FROM resume_prediction,\n    LATERAL FLATTEN(input => languages_spoken) languages_spoken\n  GROUP BY full_name\n)\n\nSELECT \n  r.file_name,\n  r.file_size,\n  r.last_modified,\n  r.snowflake_file_url,\n  r.ocrScore,\n  r.full_name,\n  r.phone_number,\n  r.email,\n  r.location,\n  r.job_title,\n  ARRAY_TO_STRING(r.work_experience_roles, ' | ') AS work_experience_roles,\n  ARRAY_TO_STRING(e.recent_work_experience, ' | ') AS recent_work_experience,\n  r.year_of_experiences,  -- Added here\n  r.field_of_study,       -- Added here\n  r.univeristy_name,       -- Added here\n  ARRAY_TO_STRING(t.technical_skills, ' | ') AS technical_skills,\n  ARRAY_TO_STRING(c.certifications, ' | ') AS certifications,\n  ARRAY_TO_STRING(l.languages_spoken, ' | ') AS languages_spoken\nFROM role_flattened r\nLEFT JOIN experience_flattened e ON r.full_name = e.full_name\nLEFT JOIN technical_skills_flattened t ON r.full_name = t.full_name\nLEFT JOIN certifications_flattened c ON r.full_name = c.full_name\nLEFT JOIN languages_spoken_flattened l ON r.full_name = l.full_name;\n",
   "execution_count": null
  },
  {
   "cell_type": "code",
   "id": "292bf295-5e38-4537-b806-a09ac7dd0c9c",
   "metadata": {
    "language": "sql",
    "name": "cell16"
   },
   "outputs": [],
   "source": "//view structure resume prediction table\nSELECT *\nFROM resume_prediction_clean;",
   "execution_count": null
  }
 ]
}