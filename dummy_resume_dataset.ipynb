{
 "metadata": {
  "kernelspec": {
   "display_name": "Streamlit Notebook",
   "name": "streamlit"
  },
  "lastEditStatus": {
   "notebookId": "52dqfkzs76isg46wojus",
   "authorId": "5351699852242",
   "authorName": "MENGTHONG01",
   "authorEmail": "longmengthong@gmail.com",
   "sessionId": "ca466df4-5ab8-4f40-9e85-cc341d1784f1",
   "lastEditTime": 1745224951383
  }
 },
 "nbformat_minor": 5,
 "nbformat": 4,
 "cells": [
  {
   "cell_type": "code",
   "id": "3775908f-ca36-4846-8f38-5adca39217f2",
   "metadata": {
    "language": "sql",
    "name": "cell1"
   },
   "source": "-- Create the table for candidate profiles\nCREATE OR REPLACE TABLE CANDIDATE_PROFILES (\n    FULL_NAME STRING,\n    PHONE_NUMBER STRING,\n    EMAIL STRING,\n    LOCATION STRING,\n    JOB_TITLE STRING,\n    JOB_LEVEL STRING,\n    WORK_EXPERIENCE_ROLE STRING,\n    RECENT_WORK_EXPERIENCE STRING,\n    TECHNICAL_SKILLS STRING,\n    YEARS_OF_EXPERIENCE INT,\n    DEGREE STRING,\n    FIELD_OF_STUDY STRING,\n    UNIVERSITY_NAME STRING,\n    CERTIFICATION STRING,\n    LANGUAGES_SPOKEN STRING,\n    CONFIDENCE_SCORE FLOAT\n    \n);\n\n-- Insert the remaining data to make a total of 50 candidates\nINSERT INTO CANDIDATE_PROFILES (FULL_NAME, PHONE_NUMBER, EMAIL, LOCATION, JOB_TITLE, JOB_LEVEL, WORK_EXPERIENCE_ROLE, \n    RECENT_WORK_EXPERIENCE, TECHNICAL_SKILLS, YEARS_OF_EXPERIENCE, DEGREE, FIELD_OF_STUDY, UNIVERSITY_NAME, CERTIFICATION, LANGUAGES_SPOKEN, CONFIDENCE_SCORE)\nVALUES\n('Aaron Miller', '+1 (555) 678-3221', 'aaron.miller@email.com', 'Chicago, USA', 'Data Analyst', 'Mid-level', 'Data Analyst', \n 'Managed analytics projects for a retail company.', 'Power BI, SQL, Tableau', 5, 'MSc Business Analytics', 'Business Analytics', 'University of Chicago', 'Tableau Certification', 'English', 0.92),\n('Beatrice Kelly', '+1 (555) 789-2101', 'beatrice.kelly@email.com', 'Dallas, USA', 'BI Consultant', 'Senior', 'BI Developer', \n 'Designed business intelligence systems for healthcare organizations.', 'Power BI, DAX, SQL', 6, 'BSc Information Systems', 'Healthcare Analytics', 'University of Texas', NULL, 'English', 0.85),\n('Carter Brown', '+1 (555) 890-1235', 'carter.brown@email.com', 'San Diego, USA', 'Data Scientist', 'Mid-level', 'Data Scientist', \n 'Developed NLP models for customer feedback analysis.', 'Python, R, NLP', 4, 'BSc Data Science', 'Natural Language Processing', 'University of California', 'Certified Data Scientist', 'English, Mandarin', 0.79),\n('Deborah Garcia', '+1 (555) 901-2346', 'deborah.garcia@email.com', 'New York, USA', 'Data Engineer', 'Mid-level', 'Data Engineer', \n 'Worked on ETL processes for real-time data.', 'Python, SQL, Apache Spark', 3, 'MSc Data Engineering', 'Data Engineering', 'University of Texas', 'Certified Data Engineer', 'English, Spanish', 0.88),\n('Edward Taylor', '+1 (555) 012-3457', 'edward.taylor@email.com', 'Boston, USA', 'BI Consultant', 'Mid-level', 'BI Analyst', \n 'Created dashboards for monitoring operational performance.', 'Power BI, SQL, Tableau', 4, 'BSc Business Intelligence', 'Operations Analytics', 'University of Michigan', NULL, 'English, French', 0.93),\n('Fiona Clark', '+1 (555) 123-4568', 'fiona.clark@email.com', 'Los Angeles, USA', 'Data Scientist', 'Junior', 'Junior Data Scientist', \n 'Created models to analyze product sales data.', 'Python, R, SQL', 2, 'BSc Statistics', 'Statistics', 'UC Berkeley', 'Google Analytics Certification', 'English', 0.91),\n('George White', '+1 (555) 234-5679', 'george.white@email.com', 'Chicago, USA', 'Data Analyst', 'Mid-level', 'Data Analyst', \n 'Developed insights for marketing strategies using SQL.', 'SQL, Excel, Power BI', 4, 'MSc Business Analytics', 'Business Analytics', 'University of Chicago', 'Power BI Certification', 'English', 0.76),\n('Hilda Wright', '+1 (555) 345-6780', 'hilda.wright@email.com', 'Miami, USA', 'Data Engineer', 'Junior', 'Junior Data Engineer', \n 'Developed API integrations for data pipeline.', 'Python, SQL', 1, 'BSc Software Engineering', 'Software Engineering', 'University of Miami', NULL, 'English', 0.95),\n('Isaac Harris', '+1 (555) 456-7891', 'isaac.harris@email.com', 'Houston, USA', 'Data Analyst', 'Senior', 'Data Analyst', \n 'Led the analytics team for a financial services firm.', 'SQL, Power BI, Tableau', 6, 'MSc Computer Science', 'Information Technology', 'University of Washington', 'Tableau Certification', 'English, Spanish', 0.89),\n('Jade Robinson', '+1 (555) 567-8902', 'jade.robinson@email.com', 'San Francisco, USA', 'BI Consultant', 'Mid-level', 'BI Developer', \n 'Implemented BI solutions for an e-commerce company.', 'Power BI, DAX, SQL', 3, 'BSc Business Intelligence', 'E-commerce Analytics', 'University of California', 'Certified BI Developer', 'English', 0.82),\n('Kurt Jackson', '+1 (555) 678-9013', 'kurt.jackson@email.com', 'Seattle, USA', 'Data Scientist', 'Senior', 'Lead Data Scientist', \n 'Developed machine learning algorithms for predictive analytics.', 'Python, TensorFlow, SQL', 7, 'MSc Artificial Intelligence', 'AI', 'MIT', 'Certified ML Professional', 'English, German', 0.87),\n('Lana Lee', '+1 (555) 789-0124', 'lana.lee@email.com', 'Austin, USA', 'Data Engineer', 'Junior', 'Junior Data Engineer', \n 'Developed data pipelines using Apache Airflow.', 'Python, SQL, Apache Airflow', 2, 'BSc Data Engineering', 'Data Engineering', 'University of Washington', NULL, 'English', 0.91),\n('Mike Taylor', '+1 (555) 890-1236', 'mike.taylor@email.com', 'New York, USA', 'Data Analyst', 'Junior', 'Junior Analyst', \n 'Created data reports using Excel and SQL for a logistics company.', 'SQL, Excel, Power BI', 1, 'BSc Economics', 'Economics', 'Harvard University', 'Google Analytics Certification', 'English', 0.84),\n('Natalie Adams', '+1 (555) 901-2347', 'natalie.adams@email.com', 'Chicago, USA', 'Data Engineer', 'Mid-level', 'Data Engineer', \n 'Built cloud-based data storage systems using AWS.', 'AWS, Python, SQL', 3, 'MSc Data Engineering', 'Cloud Computing', 'UC Berkeley', 'AWS Certified Developer', 'English, Mandarin', 0.78),\n('Oliver King', '+1 (555) 012-3458', 'oliver.king@email.com', 'Los Angeles, USA', 'Data Scientist', 'Mid-level', 'Data Scientist', \n 'Built recommendation models for online retail.', 'Python, R, SQL', 4, 'BSc Computer Science', 'Machine Learning', 'University of Southern California', NULL, 'English', 0.90),\n('Paula Harris', '+1 (555) 123-4569', 'paula.harris@email.com', 'San Francisco, USA', 'BI Consultant', 'Junior', 'BI Analyst', \n 'Created dashboards and reports using Power BI.', 'Power BI, DAX', 2, 'BSc Information Systems', 'Business Intelligence', 'University of California', NULL, 'English', 0.88),\n('Quinn Walker', '+1 (555) 234-5670', 'quinn.walker@email.com', 'Houston, USA', 'Data Engineer', 'Mid-level', 'Data Engineer', \n 'Built automated data pipelines for reporting.', 'Python, SQL, Apache Kafka', 3, 'MSc Data Engineering', 'Data Engineering', 'UC Berkeley', NULL, 'English', 0.79),\n('Rebecca Scott', '+1 (555) 345-6782', 'rebecca.scott@email.com', 'Miami, USA', 'Data Analyst', 'Senior', 'Senior Analyst', \n 'Developed insights from customer data for targeted marketing.', 'SQL, Power BI', 5, 'MSc Business Analytics', 'Marketing Analytics', 'University of Florida', 'Power BI Certification', 'English, Portuguese', 0.95),\n('Steve Harris', '+1 (555) 456-7892', 'steve.harris@email.com', 'Dallas, USA', 'Data Engineer', 'Mid-level', 'Data Engineer', \n 'Designed and implemented large-scale data pipelines.', 'Python, SQL, AWS', 4, 'BSc Computer Engineering', 'Data Engineering', 'Texas A&M University', 'AWS Certified Architect', 'English, Spanish', 0.80),\n('Tasha Brown', '+1 (555) 567-8903', 'tasha.brown@email.com', 'Chicago, USA', 'Data Scientist', 'Mid-level', 'Data Scientist', \n 'Developed deep learning models for image recognition.', 'Python, TensorFlow', 3, 'MSc AI', 'Artificial Intelligence', 'MIT', NULL, 'English', 0.85),\n('Uma Thompson', '+1 (555) 678-9014', 'uma.thompson@email.com', 'Los Angeles, USA', 'BI Consultant', 'Mid-level', 'BI Developer', \n 'Created data visualizations for business performance metrics.', 'Power BI, SQL', 4, 'BSc Business Analytics', 'Business Analytics', 'University of Washington', 'Certified BI Developer', 'English', 0.94),\n('Victor Johnson', '+1 (555) 789-0125', 'victor.johnson@email.com', 'Austin, USA', 'Data Analyst', 'Junior', 'Junior Analyst', \n 'Generated insights from sales data using Power BI.', 'Power BI, SQL', 1, 'BSc Business Administration', 'Business Analytics', 'University of Texas', NULL, 'English', 0.77),\n('Wendy Green', '+1 (555) 890-1237', 'wendy.green@email.com', 'Seattle, USA', 'Data Scientist', 'Senior', 'Lead Data Scientist', \n 'Developed models to predict customer churn.', 'Python, R, SQL', 6, 'PhD Data Science', 'Data Science', 'Stanford University', 'Certified Data Scientist', 'English, French', 0.92),\n('Xander Adams', '+1 (555) 901-2348', 'xander.adams@email.com', 'San Francisco, USA', 'Data Engineer', 'Mid-level', 'Data Engineer', \n 'Optimized data storage and retrieval systems.', 'SQL, Python, Hadoop', 4, 'BSc Computer Science', 'Computer Science', 'UC Berkeley', 'Certified Data Engineer', 'English', 0.90),\n('Yasmin Moore', '+1 (555) 012-3459', 'yasmin.moore@email.com', 'New York, USA', 'BI Consultant', 'Junior', 'BI Analyst', \n 'Analyzed business performance metrics using Power BI.', 'Power BI, SQL', 2, 'BSc Information Technology', 'Business Intelligence', 'NYU', NULL, 'English', 0.84),\n('Zara Wilson', '+1 (555) 123-4570', 'zara.wilson@email.com', 'Miami, USA', 'Data Scientist', 'Mid-level', 'Data Scientist', \n 'Worked on machine learning models for healthcare analytics.', 'Python, R, SQL', 3, 'MSc AI', 'AI', 'Harvard University', 'Certified Data Scientist', 'English', 0.91),\n-- Adding last 10 more candidates to complete the total of 50.\n('Adam Taylor', '+1 (555) 234-5671', 'adam.taylor@email.com', 'Chicago, USA', 'Data Analyst', 'Senior', 'Lead Data Analyst', \n 'Led data analysis for e-commerce platform optimization.', 'SQL, Power BI, Tableau', 7, 'MSc Data Science', 'Business Analytics', 'MIT', NULL, 'English', 0.94),\n('Blair Green', '+1 (555) 345-6783', 'blair.green@email.com', 'Seattle, USA', 'Data Engineer', 'Mid-level', 'Data Engineer', \n 'Implemented real-time data processing for an IoT platform.', 'Python, SQL, AWS', 4, 'BSc Data Engineering', 'Software Engineering', 'UC Berkeley', 'AWS Certified Solutions Architect', 'English, Spanish', 0.89),\n('Craig Harris', '+1 (555) 456-7893', 'craig.harris@email.com', 'Dallas, USA', 'Data Analyst', 'Junior', 'Junior Analyst', \n 'Assisted in data visualization and reporting using Power BI.', 'Power BI, SQL', 2, 'BSc Information Systems', 'Business Intelligence', 'University of Florida', 'Google Analytics Certification', NULL, 0.86);\n",
   "execution_count": null,
   "outputs": []
  },
  {
   "cell_type": "code",
   "id": "3a7fa97e-2eed-4a0b-86d1-e0cd95ab0295",
   "metadata": {
    "language": "sql",
    "name": "cell12"
   },
   "outputs": [],
   "source": "ALTER TABLE CANDIDATE_PROFILES DROP COLUMN CONFIDENCE_SCORE;\nALTER TABLE CANDIDATE_PROFILES DROP COLUMN VALIDATION_STATUS;\nALTER TABLE CANDIDATE_PROFILES DROP COLUMN APPLICATION_STATUS;\nALTER TABLE CANDIDATE_PROFILES DROP COLUMN REMARK;",
   "execution_count": null
  },
  {
   "cell_type": "code",
   "id": "24a94aaf-1d94-45c2-96ee-faf3ca69fcc8",
   "metadata": {
    "language": "sql",
    "name": "cell9"
   },
   "outputs": [],
   "source": "ALTER TABLE CANDIDATE_PROFILES\nADD VALIDATION_STATUS VARCHAR(255), \nAPPLICATION_STATUS VARCHAR(255),\nREMARK VARCHAR(255)\n;",
   "execution_count": null
  },
  {
   "cell_type": "code",
   "id": "53079161-6a10-4c41-9276-83e5e4bbedbe",
   "metadata": {
    "language": "sql",
    "name": "cell10"
   },
   "outputs": [],
   "source": "UPDATE CANDIDATE_PROFILES\nSET \n    VALIDATION_STATUS = CASE \n        WHEN confidence_score < .85 THEN 'Need Validation'\n        ELSE 'Pass Score'\n    END,\n    APPLICATION_STATUS = 'Applied'\n;",
   "execution_count": null
  },
  {
   "cell_type": "code",
   "id": "6365470c-2140-4a7d-adfd-0abf4367f8a1",
   "metadata": {
    "language": "sql",
    "name": "cell2"
   },
   "outputs": [],
   "source": "Select *\nFrom CANDIDATE_PROFILES;",
   "execution_count": null
  },
  {
   "cell_type": "code",
   "id": "e451ed3f-7fbf-4285-99b0-0d963a53576b",
   "metadata": {
    "language": "sql",
    "name": "cell3",
    "codeCollapsed": false
   },
   "outputs": [],
   "source": "-- Create the table for candidate profiles\nCREATE OR REPLACE TABLE CANDIDATE_PROFILES_EDIT (\n    FULL_NAME STRING,\n    PHONE_NUMBER STRING,\n    EMAIL STRING,\n    LOCATION STRING,\n    JOB_TITLE STRING,\n    JOB_LEVEL STRING,\n    WORK_EXPERIENCE_ROLE STRING,\n    RECENT_WORK_EXPERIENCE STRING,\n    TECHNICAL_SKILLS STRING,\n    YEARS_OF_EXPERIENCE INT,\n    DEGREE STRING,\n    FIELD_OF_STUDY STRING,\n    UNIVERSITY_NAME STRING,\n    CERTIFICATION STRING,\n    LANGUAGES_SPOKEN STRING,\n    CONFIDENCE_SCORE FLOAT,\n    VALIDATION_STATUS STRING,\n    APPLICATION_STATUS STRING\n);\n\n-- Insert the remaining data to make a total of 50 candidates\nINSERT INTO CANDIDATE_PROFILES_EDIT (FULL_NAME, PHONE_NUMBER, EMAIL, LOCATION, JOB_TITLE, JOB_LEVEL, WORK_EXPERIENCE_ROLE, \n    RECENT_WORK_EXPERIENCE, TECHNICAL_SKILLS, YEARS_OF_EXPERIENCE, DEGREE, FIELD_OF_STUDY, UNIVERSITY_NAME, CERTIFICATION, LANGUAGES_SPOKEN, CONFIDENCE_SCORE, VALIDATION_STATUS, APPLICATION_STATUS)\nVALUES\n('Aaron Miller', '+1 (555) 678-3221', 'aaron.miller@email.com', 'Chicago, USA', 'Data Analyst', 'Mid-level', 'Data Analyst', \n 'Managed analytics projects for a retail company.', 'Power BI, SQL, Tableau', 5, 'MSc Business Analytics', 'Business Analytics', 'University of Chicago', 'Tableau Certification', 'English', .67, 'Need Validation', 'Applied'),\n('Beatrice Kelly', '+1 (555) 789-2101', 'beatrice.kelly@email.com', 'Dallas, USA', 'BI Consultant', 'Senior', 'BI Developer', \n 'Designed business intelligence systems for healthcare organizations.', 'Power BI, DAX, SQL', 6, 'BSc Information Systems', 'Healthcare Analytics', 'University of Texas', NULL, 'English', .83, 'Need Validation', 'Applied'),\n('Carter Brown', '+1 (555) 890-1235', 'carter.brown@email.com', 'San Diego, USA', 'Data Scientist', 'Mid-level', 'Data Scientist', \n 'Developed NLP models for customer feedback analysis.', 'Python, R, NLP', 4, 'BSc Data Science', 'Natural Language Processing', 'University of California', 'Certified Data Scientist', 'English, Mandarin', .97, 'Need Validation', 'Applied');",
   "execution_count": null
  },
  {
   "cell_type": "code",
   "id": "cec0ce46-ac03-4b8f-bf32-12412cff294c",
   "metadata": {
    "language": "sql",
    "name": "cell5"
   },
   "outputs": [],
   "source": "ALTER TABLE CANDIDATE_PROFILES_EDIT\nADD REMARK VARCHAR(255)\n;",
   "execution_count": null
  },
  {
   "cell_type": "code",
   "id": "85d2f060-4f1f-4a24-8411-b0b7f644ed4d",
   "metadata": {
    "language": "sql",
    "name": "cell4"
   },
   "outputs": [],
   "source": "UPDATE CANDIDATE_PROFILES_EDIT\nSET VALIDATION_STATUS = CASE \n    WHEN confidence_score < .85 THEN 'Need Validation'\n    ELSE 'Pass Score'\nEND;",
   "execution_count": null
  },
  {
   "cell_type": "code",
   "id": "ccb9462d-1e20-4f0b-9588-fec90d1f0d55",
   "metadata": {
    "language": "sql",
    "name": "cell6"
   },
   "outputs": [],
   "source": "SELECT *\nFROM CANDIDATE_PROFILES_EDIT;",
   "execution_count": null
  },
  {
   "cell_type": "code",
   "id": "5fa976bd-be49-4af6-aaec-55d088cd645e",
   "metadata": {
    "language": "sql",
    "name": "cell7"
   },
   "outputs": [],
   "source": "DESC TABLE CANDIDATE_PROFILES_EDIT;",
   "execution_count": null
  },
  {
   "cell_type": "code",
   "id": "1d41cd00-954c-4117-b7b4-f8bb051c0caf",
   "metadata": {
    "language": "sql",
    "name": "cell11"
   },
   "outputs": [],
   "source": "SELECT Random();",
   "execution_count": null
  }
 ]
}
