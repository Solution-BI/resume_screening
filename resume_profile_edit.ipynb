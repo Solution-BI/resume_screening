{
 "metadata": {
  "kernelspec": {
   "display_name": "Streamlit Notebook",
   "name": "streamlit"
  },
  "lastEditStatus": {
   "notebookId": "gz2bkrudeiozikg6c5cj",
   "authorId": "5351699852242",
   "authorName": "MENGTHONG01",
   "authorEmail": "longmengthong@gmail.com",
   "sessionId": "8fabeddc-3b24-4222-b917-655f1e9f548a",
   "lastEditTime": 1744356102255
  }
 },
 "nbformat_minor": 5,
 "nbformat": 4,
 "cells": [
  {
   "cell_type": "code",
   "id": "3775908f-ca36-4846-8f38-5adca39217f2",
   "metadata": {
    "language": "python",
    "name": "cell1"
   },
   "source": "import streamlit as st\nfrom snowflake.snowpark.context import get_active_session\nimport pandas as pd\n\n# Establish Snowflake session\nsession = st.connection('snowflake').session()\n\n# Function to fetch data from Snowflake\ndef fetch_data():\n    query = \"\"\"\n    SELECT FULL_NAME, PHONE_NUMBER\n    FROM CANDIDATE_PROFILES_EDIT\n    \"\"\"\n    df = session.sql(query).to_pandas()\n    return df\n\n# Function to update data in Snowflake (to CANDIDATE_PROFILES_EDIT table)\ndef update_data_in_snowflake(old_name, new_name, new_phone_number):\n    query = f\"\"\"\n    UPDATE CANDIDATE_PROFILES_EDIT\n    SET FULL_NAME = '{new_name}', PHONE_NUMBER = '{new_phone_number}'\n    WHERE FULL_NAME = '{old_name}'\n    \"\"\"\n    session.sql(query).collect()  # Execute the update query\n\n# Function to reload data from the database\ndef reload_data():\n    return fetch_data()\n\n# Fetch the initial data\nif 'data' not in st.session_state:\n    st.session_state.data = fetch_data()  # Store the data in session state if it doesn't exist\n\n# Editable table UI\nst.title(\"Edit Candidate Data\")\n\n# Display the data in the app\nst.write(\"Current Candidate Data:\")\nst.dataframe(st.session_state.data)\n\n# Create editable table\nedited_data = st.session_state.data.copy()  # Make a copy of the data to be edited\n\n# Loop through the DataFrame and allow row edits\nfor index, row in edited_data.iterrows():\n    with st.expander(f\"{index + 0}: {row['FULL_NAME']}\"):\n        # Editable fields for each row\n        edited_data.at[index, 'FULL_NAME'] = st.text_input(f\"Full Name\", value=row['FULL_NAME'], key=f\"name_{index}\")\n        edited_data.at[index, 'PHONE_NUMBER'] = st.text_input(f\"Phone Number\", value=row['PHONE_NUMBER'], key=f\"phone_{index}\")\n\n# Button to save changes\nif st.button(\"Save Changes\"):\n    # Update the database with the new values\n    try:\n        for index, row in edited_data.iterrows():\n            if row['FULL_NAME'] != st.session_state.data.at[index, 'FULL_NAME'] or row['PHONE_NUMBER'] != st.session_state.data.at[index, 'PHONE_NUMBER']:\n                update_data_in_snowflake(st.session_state.data.at[index, 'FULL_NAME'], row['FULL_NAME'], row['PHONE_NUMBER'])\n                st.success(f\"Updated: {row['FULL_NAME']}, Phone Number = {row['PHONE_NUMBER']}\")\n            else:\n                st.info(f\"No changes for: {row['FULL_NAME']}\")\n\n        # Update the session state data with the edited data after saving changes\n        st.session_state.data = edited_data  # Store the updated data in session state\n\n        # Refresh the page to reflect the changes immediately\n        st.rerun()  # This will rerun the app and reload the table with updated data\n\n    except Exception as e:\n        st.error(f\"Error updating data: {str(e)}\")",
   "execution_count": null,
   "outputs": []
  }
 ]
}
