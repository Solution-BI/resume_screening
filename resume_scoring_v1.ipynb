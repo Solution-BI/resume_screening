{
 "metadata": {
  "kernelspec": {
   "display_name": "Streamlit Notebook",
   "name": "streamlit"
  },
  "lastEditStatus": {
   "notebookId": "j6tx4eshpwt6xj7x6y6i",
   "authorId": "5351699852242",
   "authorName": "MENGTHONG01",
   "authorEmail": "longmengthong@gmail.com",
   "sessionId": "b318c81f-d6f0-4883-9fd1-3a5df0024372",
   "lastEditTime": 1744356829752
  }
 },
 "nbformat_minor": 5,
 "nbformat": 4,
 "cells": [
  {
   "cell_type": "markdown",
   "id": "74e3a5bd-7c1c-4f9b-a777-b780ebfc0282",
   "metadata": {
    "name": "cell2",
    "collapsed": false
   },
   "source": "# Resume Scoring wtih Dummy sample data"
  },
  {
   "cell_type": "code",
   "id": "3775908f-ca36-4846-8f38-5adca39217f2",
   "metadata": {
    "language": "python",
    "name": "cell1"
   },
   "source": "import streamlit as st\nimport pandas as pd\n\n# --- Role and Skill Weight Configuration ---\njob_roles = pd.DataFrame({\n    'job_role': ['Data Analyst', 'Data Engineer', 'BI Developer'],\n    'base_weight': [70, 85, 80]\n})\n\njob_levels = pd.DataFrame({\n    'job_level': ['Junior', 'Mid', 'Senior'],\n    'level_weight': [0.5, 1, 1.5]\n})\n\n# Role-specific skill weight table\nskills = pd.DataFrame({\n    'skill': [\n        'SQL', 'Python', 'Machine Learning', 'Data Visualization', \n        'Power BI', 'Tableau', 'ETL Tools', 'Big Data', 'Statistics', 'Excel'\n    ],\n    'Data Analyst':     [20, 15, 10, 20, 25, 20, 10, 5, 15, 20],\n    'Data Engineer':    [25, 20, 15, 10, 10, 5, 25, 20, 10, 10],\n    'BI Developer':     [15, 10, 10, 25, 30, 25, 10, 5, 10, 15]\n})\n\nexperience = pd.DataFrame({\n    'years_of_experience': [0, 1, 3, 5, 8],\n    'experience_weight': [0, 10, 20, 30, 40]\n})\n\n# Updated user data with role-appropriate skills\nuser_data = pd.DataFrame({\n    'full_name': ['Alice', 'Bob', 'Charlie', 'David'],\n    'job_role': ['Data Analyst', 'Data Engineer', 'BI Developer', 'Data Analyst'],\n    'job_level': ['Junior', 'Mid', 'Senior', 'Mid'],\n    'skills': [\n        ['SQL', 'Power BI', 'Excel'],                    # Alice - DA\n        ['SQL', 'Python', 'ETL Tools', 'Big Data'],      # Bob - DE\n        ['Power BI', 'Data Visualization', 'Tableau'],   # Charlie - BI Dev\n        ['SQL', 'Excel', 'Python', 'Statistics']         # David - DA\n    ],\n    'years_of_experience': [1, 5, 3, 2]\n})\n\n# --- Helper Functions ---\ndef get_weight(df, column, value, weight_col):\n    row = df[df[column] == value]\n    return row[weight_col].values[0] if not row.empty else 0\n\ndef get_role_specific_skill_weight(skill, job_role):\n    row = skills[skills['skill'] == skill]\n    return row[job_role].values[0] if not row.empty else 0\n\ndef calculate_weight(job_role, job_level, selected_skills, years_exp):\n    role_weight = get_weight(job_roles, 'job_role', job_role, 'base_weight')\n    level_weight = get_weight(job_levels, 'job_level', job_level, 'level_weight')\n    skill_weight = sum([get_role_specific_skill_weight(s, job_role) for s in selected_skills])\n    exp_weight = get_weight(experience, 'years_of_experience', years_exp, 'experience_weight')\n    #take out the job level weight\n    total = role_weight + (role_weight * level_weight) + skill_weight + exp_weight\n    #total = role_weight + skill_weight + exp_weight\n    return round(total, 2)\n\ndef candidate_score(row, selected_job, selected_level, selected_skills, selected_exp):\n    role_weight = get_weight(job_roles, 'job_role', selected_job, 'base_weight')\n\n    # Job level comparison: candidate level must be >= selected level\n    candidate_level = row['job_level']\n    candidate_level_weight = 0\n    if job_levels.index[job_levels['job_level'] == candidate_level].item() >= \\\n       job_levels.index[job_levels['job_level'] == selected_level].item():\n        candidate_level_weight = get_weight(job_levels, 'job_level', candidate_level, 'level_weight')\n\n    # Skills\n    matched_skills = set(row['skills']).intersection(set(selected_skills))\n    skill_weight = sum([\n        get_role_specific_skill_weight(s, selected_job) for s in matched_skills\n    ])\n\n    # Experience\n    experience_weight = 0\n    if row['years_of_experience'] >= selected_exp:\n        experience_weight = get_weight(experience, 'years_of_experience', row['years_of_experience'], 'experience_weight')\n    \n    #take out job level weight \n    total = role_weight + (role_weight * candidate_level_weight) + skill_weight + experience_weight\n    #total = role_weight  + skill_weight + experience_weight\n    return round(total)\n\n# --- Streamlit App ---\nst.title(\"📊 ATS Resume Ranking System\")\n\n# Employer Input\nselected_job = st.selectbox(\"Select Job Role\", job_roles['job_role'])\nselected_level = st.selectbox(\"Select Job Level\", job_levels['job_level'])\nselected_skills = st.multiselect(\"Select Required Skills\", skills['skill'])\nselected_exp = st.selectbox(\"Select Minimum Years of Experience\", experience['years_of_experience'])\n\n# Baseline Score Calculation\nbaseline_weight = calculate_weight(selected_job, selected_level, selected_skills, selected_exp)\nst.markdown(f\"### Baseline Competency Weight: `{baseline_weight}`\")\n\n# Candidate Evaluation\nuser_data['competency_weight'] = user_data.apply(\n    lambda row: candidate_score(row, selected_job, selected_level, selected_skills, selected_exp),\n    axis=1\n)\n\nuser_data['status'] = user_data['competency_weight'].apply(\n    lambda x: \"✓\" if x >= baseline_weight else \"✗\"\n)\n\n# Sort Candidates by Score\nranked_users = user_data.sort_values(by='competency_weight', ascending=False)\n\n# Styling for Status\ndef highlight_status(val):\n    color = 'green' if val == '✓' else 'red'\n    return f'color: {color}; font-weight: bold;'\n\nstyled_df = ranked_users[[\n    'full_name', 'job_role', 'job_level', 'skills', 'years_of_experience', \n    'competency_weight', 'status'\n]].style.applymap(highlight_status, subset=['status'])\n\nst.subheader(\"🏅 Ranked Candidates\")\nst.dataframe(styled_df, use_container_width=True)\n",
   "execution_count": null,
   "outputs": []
  },
  {
   "cell_type": "markdown",
   "id": "cd43954f-60b0-49ca-b702-262c96fc621d",
   "metadata": {
    "name": "cell3",
    "collapsed": false
   },
   "source": "# Resume Scoring with Snowfalke Database "
  },
  {
   "cell_type": "code",
   "id": "e8fe2120-aec6-4a97-af40-218f3157e408",
   "metadata": {
    "language": "python",
    "name": "cell4"
   },
   "outputs": [],
   "source": "import streamlit as st\nfrom snowflake.snowpark.context import get_active_session\nimport pandas as pd\n\n# Connect to Snowflake\nsession = st.connection('snowflake').session()\n\n# SQL query to fetch candidate data from Snowflake\ndef fetch_data():\n    query = \"\"\"\n    SELECT FULL_NAME, PHONE_NUMBER, EMAIL, LOCATION, JOB_TITLE, JOB_LEVEL, TECHNICAL_SKILLS, YEARS_OF_EXPERIENCE\n    FROM CANDIDATE_PROFILES\n    \"\"\"\n    df = session.sql(query).to_pandas()\n    return df\n\n# Fetch data from Snowflake\nuser_data = fetch_data()\n\n# Job Roles with base weights\njob_roles = pd.DataFrame({\n    'job_role': ['Data Analyst', 'BI Consultant', 'Data Scientist', 'Data Engineer'],\n    'base_weight': [70, 80, 85, 90]  # Example base weights for each job role\n})\n\n# Job Levels with weight multipliers\njob_levels = pd.DataFrame({\n    'job_level': ['Junior', 'Mid-level', 'Senior'],\n    'level_weight': [0.5, 1, 1.5]  # Weight for different job levels\n})\n\n# Skills and role-specific weights\nskills = pd.DataFrame({\n    'skill': [\n        'AWS', 'Apache Airflow', 'Apache Kafka', 'Apache Spark', 'DAX', 'Excel', 'Hadoop', \n        'NLP', 'Power BI', 'Python', 'R', 'SQL', 'Tableau', 'TensorFlow'\n    ],\n    'Data Analyst': [5, 0, 0, 0, 20, 15, 0, 0, 25, 15, 0, 20, 20, 0],\n    'BI Consultant': [0, 10, 5, 5, 20, 10, 10, 5, 25, 15, 10, 15, 25, 10],\n    'Data Scientist': [10, 15, 15, 10, 25, 15, 10, 10, 15, 20, 20, 20, 15, 30],\n    'Data Engineer': [20, 20, 25, 25, 10, 10, 20, 15, 10, 20, 10, 25, 5, 15]\n})\n\n# Years of Experience with corresponding weights\nexperience = pd.DataFrame({\n    'years_of_experience': [1, 2, 3, 4, 5, 6, 7],\n    'experience_weight': [10, 10, 20, 20, 30, 30, 40]  # Weights assigned based on years of experience\n})\n\n# --- Helper Functions ---\ndef get_weight(df, column, value, weight_col):\n    row = df[df[column] == value]\n    return row[weight_col].values[0] if not row.empty else 0\n\ndef get_role_specific_skill_weight(skill, job_role):\n    row = skills[skills['skill'] == skill]\n    return row[job_role].values[0] if not row.empty else 0\n\ndef calculate_weight(job_role, job_level, selected_skills, years_exp):\n    role_weight = get_weight(job_roles, 'job_role', job_role, 'base_weight')\n    level_weight = get_weight(job_levels, 'job_level', job_level, 'level_weight')\n    skill_weight = sum([get_role_specific_skill_weight(s, job_role) for s in selected_skills])\n    exp_weight = get_weight(experience, 'years_of_experience', years_exp, 'experience_weight')\n    total = role_weight + (role_weight * level_weight) + skill_weight + exp_weight\n    return round(total, 2)\n\ndef candidate_score(row, selected_job, selected_level, selected_skills, selected_exp):\n    role_weight = get_weight(job_roles, 'job_role', selected_job, 'base_weight')\n\n    # Job level comparison: candidate level must be >= selected level\n    candidate_level = row['JOB_LEVEL']\n    candidate_level_weight = 0\n    candidate_level_index = job_levels.index[job_levels['job_level'] == candidate_level].item()\n    selected_level_index = job_levels.index[job_levels['job_level'] == selected_level].item()\n    if candidate_level_index >= selected_level_index:\n        candidate_level_weight = get_weight(job_levels, 'job_level', candidate_level, 'level_weight')\n\n    # Skills\n    matched_skills = set(row['TECHNICAL_SKILLS'].split(',')).intersection(set(selected_skills))  # Assuming skills are stored as a comma-separated string\n    skill_weight = sum([\n        get_role_specific_skill_weight(s, selected_job) for s in matched_skills\n    ])\n\n    # Experience\n    experience_weight = 0\n    if row['YEARS_OF_EXPERIENCE'] >= selected_exp:\n        experience_weight = get_weight(experience, 'years_of_experience', row['YEARS_OF_EXPERIENCE'], 'experience_weight')\n    \n    total = role_weight + (role_weight * candidate_level_weight) + skill_weight + experience_weight\n    return round(total)\n\n# --- Streamlit App ---\nst.title(\"📊 ATS Resume Ranking System\")\n\n# Employer Input\nselected_job = st.selectbox(\"Select Job Role\", job_roles['job_role'])\nselected_level = st.selectbox(\"Select Job Level\", job_levels['job_level'])\nselected_skills = st.multiselect(\"Select Required Skills\", skills['skill'])\nselected_exp = st.selectbox(\"Select Minimum Years of Experience\", experience['years_of_experience'])\n\n# Baseline Score Calculation\nbaseline_weight = calculate_weight(selected_job, selected_level, selected_skills, selected_exp)\nst.markdown(f\"### Baseline Competency Weight: `{baseline_weight}`\")\n\n# Candidate Evaluation\nuser_data['competency_weight'] = user_data.apply(\n    lambda row: candidate_score(row, selected_job, selected_level, selected_skills, selected_exp),\n    axis=1\n)\n\nuser_data['status'] = user_data['competency_weight'].apply(\n    lambda x: \"✓\" if x >= baseline_weight else \"✗\"\n)\n\n# Sort Candidates by Score\nranked_users = user_data.sort_values(by='competency_weight', ascending=False)\n\n# Styling for Status\ndef highlight_status(val):\n    color = 'green' if val == '✓' else 'red'\n    return f'color: {color}; font-weight: bold;'\n\nstyled_df = ranked_users[[\n    'FULL_NAME', 'PHONE_NUMBER', 'EMAIL', 'LOCATION', 'JOB_TITLE', 'JOB_LEVEL', 'TECHNICAL_SKILLS', 'YEARS_OF_EXPERIENCE', \n    'competency_weight', 'status'\n]].style.applymap(highlight_status, subset=['status'])\n\nst.subheader(\"🏅 Ranked Candidates\")\nst.dataframe(styled_df, use_container_width=True)",
   "execution_count": null
  }
 ]
}
